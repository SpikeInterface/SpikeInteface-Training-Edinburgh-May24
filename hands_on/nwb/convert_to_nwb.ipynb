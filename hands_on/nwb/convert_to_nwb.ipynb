{
 "cells": [
  {
   "cell_type": "code",
   "execution_count": null,
   "metadata": {},
   "outputs": [],
   "source": [
    "import warnings\n",
    "warnings.filterwarnings('ignore', category=DeprecationWarning)"
   ]
  },
  {
   "cell_type": "markdown",
   "metadata": {},
   "source": [
    "# NWB and Spikeinterface"
   ]
  },
  {
   "cell_type": "markdown",
   "metadata": {},
   "source": [
    "## The NWB Ecocsystem"
   ]
  },
  {
   "cell_type": "markdown",
   "metadata": {},
   "source": [
    "[Link to slides](https://docs.google.com/presentation/d/1DwUEKQrUkTLi2hm4RwV1egWnJ3wsGUI973Zku-HA-zg/edit?usp=sharing)"
   ]
  },
  {
   "cell_type": "markdown",
   "metadata": {},
   "source": [
    "## Neurconv"
   ]
  },
  {
   "cell_type": "markdown",
   "metadata": {},
   "source": [
    "## Adding Spikeinterface objects to NWB"
   ]
  },
  {
   "cell_type": "markdown",
   "metadata": {},
   "source": [
    "Let's start by generating some artificial data"
   ]
  },
  {
   "cell_type": "code",
   "execution_count": null,
   "metadata": {},
   "outputs": [],
   "source": [
    "from spikeinterface.core import generate_ground_truth_recording\n",
    "\n",
    "\n",
    "recording, sorting = generate_ground_truth_recording(num_channels=8, num_units=3, durations=[60*10.0], seed=0,)\n",
    "\n",
    "recording = recording.rename_channels(new_channel_ids=[\"A\", \"B\", \"C\", \"D\", \"E\", \"F\", \"G\", \"H\"]) \n",
    "sorting = sorting.rename_units(new_unit_ids=[\"Unit A\", \"Unit B\", \"Unit C\"])\n",
    "\n",
    "# Add new properties to the recording and sorting\n",
    "recording.set_property(key=\"a_channel_property\", values=[f\"property {channel}\" for channel in recording.get_channel_ids()])\n",
    "recording.set_property(key=\"brain_area\", values=[f\"Area {channel}\" for channel in recording.get_channel_ids()])\n",
    "sorting.set_property(key=\"a_unit_property\", values=[\"property Unit A\", \"property Unit B\", \"property Unit C\"])\n"
   ]
  },
  {
   "cell_type": "code",
   "execution_count": null,
   "metadata": {},
   "outputs": [],
   "source": [
    "recording"
   ]
  },
  {
   "cell_type": "code",
   "execution_count": null,
   "metadata": {},
   "outputs": [],
   "source": [
    "from probeinterface.plotting import plot_probe\n",
    "probe = recording.get_probe()\n",
    "\n",
    "plot_probe(probe);"
   ]
  },
  {
   "cell_type": "markdown",
   "metadata": {},
   "source": [
    "### Recording"
   ]
  },
  {
   "cell_type": "code",
   "execution_count": null,
   "metadata": {},
   "outputs": [],
   "source": [
    "from neuroconv.tools.spikeinterface import add_electrical_series\n",
    "from pynwb.testing.mock.file import mock_NWBFile\n",
    "\n",
    "\n",
    "nwbfile = mock_NWBFile()\n",
    "nwbfile"
   ]
  },
  {
   "cell_type": "code",
   "execution_count": null,
   "metadata": {},
   "outputs": [],
   "source": [
    "add_electrical_series(recording=recording, nwbfile=nwbfile)\n",
    "nwbfile"
   ]
  },
  {
   "cell_type": "code",
   "execution_count": null,
   "metadata": {},
   "outputs": [],
   "source": [
    "nwbfile.electrodes.to_dataframe()"
   ]
  },
  {
   "cell_type": "code",
   "execution_count": null,
   "metadata": {},
   "outputs": [],
   "source": [
    "from spikeinterface.preprocessing import bandpass_filter\n",
    "\n",
    "filtered_recording = bandpass_filter(recording, freq_min=1, freq_max=300)\n",
    "\n",
    "add_electrical_series(recording=filtered_recording, nwbfile=nwbfile, write_as=\"lfp\")\n",
    "nwbfile"
   ]
  },
  {
   "cell_type": "markdown",
   "metadata": {},
   "source": [
    "### Sorting"
   ]
  },
  {
   "cell_type": "code",
   "execution_count": null,
   "metadata": {},
   "outputs": [],
   "source": [
    "from neuroconv.tools.spikeinterface import add_sorting\n",
    "\n",
    "\n",
    "add_sorting(sorting=sorting, nwbfile=nwbfile, skip_properties=[\"gt_unit_locations\"])\n",
    "nwbfile"
   ]
  },
  {
   "cell_type": "code",
   "execution_count": null,
   "metadata": {},
   "outputs": [],
   "source": [
    "nwbfile.units.to_dataframe()"
   ]
  },
  {
   "cell_type": "code",
   "execution_count": null,
   "metadata": {},
   "outputs": [],
   "source": [
    "# Save this to a file\n",
    "from pathlib import Path\n",
    "from pynwb import NWBHDF5IO\n",
    "\n",
    "nwb_file_path = Path.cwd() / \"nwb_to_spikeinterface\"\n",
    "with NWBHDF5IO(path=nwb_file_path, mode=\"w\") as io:\n",
    "    io.write(nwbfile)"
   ]
  },
  {
   "cell_type": "markdown",
   "metadata": {},
   "source": [
    "### Sorting analyzer (Probably not)"
   ]
  },
  {
   "cell_type": "markdown",
   "metadata": {},
   "source": [
    "## Loading NWB files in Spikeinterface"
   ]
  },
  {
   "cell_type": "code",
   "execution_count": null,
   "metadata": {},
   "outputs": [],
   "source": [
    "from spikeinterface.extractors import NwbSortingExtractor, NwbRecordingExtractor\n",
    "\n",
    "recording = NwbRecordingExtractor(file_path=nwb_file_path)"
   ]
  },
  {
   "cell_type": "code",
   "execution_count": null,
   "metadata": {},
   "outputs": [],
   "source": [
    "recording = NwbRecordingExtractor(file_path=nwb_file_path, electrical_series_path=\"acquisition/ElectricalSeriesRaw\")\n",
    "recording"
   ]
  },
  {
   "cell_type": "code",
   "execution_count": null,
   "metadata": {},
   "outputs": [],
   "source": [
    "from probeinterface.plotting import plot_probe\n",
    "probe = recording.get_probe()\n",
    "\n",
    "plot_probe(probe);"
   ]
  },
  {
   "cell_type": "markdown",
   "metadata": {},
   "source": [
    "### Streaming objects from NWB"
   ]
  },
  {
   "cell_type": "code",
   "execution_count": null,
   "metadata": {},
   "outputs": [],
   "source": [
    "from dandi.dandiapi import DandiAPIClient\n",
    "from spikeinterface.extractors import NwbRecordingExtractor, IblSortingExtractor\n",
    "from one.api import ONE\n",
    "\n",
    "client = DandiAPIClient.for_dandi_instance(\"dandi\")\n",
    "\n",
    "dandiset_id = \"000409\"\n",
    "dandiset = client.get_dandiset(dandiset_id)\n",
    "\n",
    "\n",
    "#asset_path = dandiset_paths_with_ecephys[3]\n",
    "asset_path = \"sub-KS042/sub-KS042_ses-8c552ddc-813e-4035-81cc-3971b57efe65_behavior+ecephys+image.nwb\"\n",
    "recording_asset = dandiset.get_asset_by_path(path=asset_path)\n",
    "url = recording_asset.get_content_url(follow_redirects=True, strip_query=True)\n",
    "file_path = url\n",
    "\n",
    "\n",
    "\n",
    "electrical_series_path = \"acquisition/ElectricalSeriesAp00\"\n",
    "recording = NwbRecordingExtractor(file_path=file_path, stream_mode=\"remfile\", electrical_series_path=electrical_series_path)  "
   ]
  },
  {
   "cell_type": "code",
   "execution_count": null,
   "metadata": {},
   "outputs": [],
   "source": [
    "%matplotlib widget\n",
    "\n",
    "from spikeinterface.widgets import plot_traces\n",
    "\n",
    "\n",
    "plot_traces(recording=recording, backend=\"ipywidgets\")"
   ]
  },
  {
   "cell_type": "code",
   "execution_count": null,
   "metadata": {},
   "outputs": [],
   "source": [
    "session_id = recording._file[\"general\"][\"session_id\"][()].decode()\n",
    "eid = session_id.split(\"-chunking\")[0] # eid : experiment id\n",
    "\n",
    "\n",
    "\n",
    "ONE.setup(base_url='https://openalyx.internationalbrainlab.org', silent=True)\n",
    "one_instance = ONE(password='international')\n",
    "\n",
    "\n",
    "pids, probes = one_instance.eid2pid(eid)\n",
    "\n",
    "\n",
    "# Let's select the probe \n",
    "\n",
    "probe_number = electrical_series_path.split(\"Ap\")[-1]\n",
    "\n",
    "sorting_pid = None \n",
    "for pid, probe in zip(pids, probes):\n",
    "    probe_number_in_pid = probe[-2:]\n",
    "    if probe_number_in_pid == probe_number:\n",
    "        sorting_pid = pid\n",
    "        break\n",
    "    \n",
    "\n",
    "\n",
    "sorting = IblSortingExtractor(pid=sorting_pid, one=one_instance, good_clusters_only=True)\n",
    "sorting"
   ]
  },
  {
   "cell_type": "code",
   "execution_count": null,
   "metadata": {},
   "outputs": [],
   "source": [
    "from spikeinterface.widgets import plot_rasters\n",
    "\n",
    "\n",
    "plot_rasters(sorting=sorting, backend=\"matplotlib\")\n"
   ]
  },
  {
   "cell_type": "code",
   "execution_count": null,
   "metadata": {},
   "outputs": [],
   "source": []
  }
 ],
 "metadata": {
  "kernelspec": {
   "display_name": "neuroconv_env",
   "language": "python",
   "name": "python3"
  },
  "language_info": {
   "codemirror_mode": {
    "name": "ipython",
    "version": 3
   },
   "file_extension": ".py",
   "mimetype": "text/x-python",
   "name": "python",
   "nbconvert_exporter": "python",
   "pygments_lexer": "ipython3",
   "version": "3.10.9"
  }
 },
 "nbformat": 4,
 "nbformat_minor": 2
}
