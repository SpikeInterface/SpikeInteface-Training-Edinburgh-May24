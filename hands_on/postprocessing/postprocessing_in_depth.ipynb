{
 "cells": [
  {
   "cell_type": "markdown",
   "id": "b059719c-7ef1-45e9-b69e-3c5ce96b473e",
   "metadata": {},
   "source": [
    "# Postprocessing\n",
    "\n",
    "We're going to process some sorting results, and calculate e.g.\n",
    "- Waveforms\n",
    "- Templates\n",
    "- Features, like amplitudes, PCAs etc.\n",
    "\n",
    "This is good point to take a look at the output, too.\n",
    "\n",
    "To get started, let's make some simulated data. The following function will make a simulated 60 second recording with 6 channels, and a simulated sorting based on the recording with 10 units and a firing rate of 6 spikes per second."
   ]
  },
  {
   "cell_type": "code",
   "execution_count": null,
   "id": "ffb06c10-8824-4f70-8fe4-3fa15c6ef179",
   "metadata": {},
   "outputs": [],
   "source": [
    "import spikeinterface.full as si\n",
    "\n",
    "recording, sorting = si.generate_ground_truth_recording(\n",
    "    durations=[\n",
    "        60.0,\n",
    "    ],\n",
    "    sampling_frequency=30_000.0,\n",
    "    num_channels=6,\n",
    "    num_units=10,\n",
    "    generate_sorting_kwargs=dict(firing_rates=6.0, refractory_period_ms=4.0),\n",
    "    noise_kwargs=dict(noise_levels=5.0, strategy=\"tile_pregenerated\"),\n",
    "    seed=1205,\n",
    ")"
   ]
  },
  {
   "cell_type": "markdown",
   "id": "cfb66aa6-1b34-4da4-8f83-1042d3b7cf1d",
   "metadata": {},
   "source": [
    "Now let's combine these into a a single sorting analyzer called `analyzer`. Here, we're saving the sorting analyzer in a folder called \"my_sorting_analyzer\"."
   ]
  },
  {
   "cell_type": "code",
   "execution_count": null,
   "id": "09e8126a-8632-444d-b2ec-af8a72a181eb",
   "metadata": {},
   "outputs": [],
   "source": [
    "analyzer = si.create_sorting_analyzer(\n",
    "    sorting=sorting,\n",
    "    recording=recording,\n",
    "    overwrite=True,\n",
    "    format=\"binary_folder\",\n",
    "    folder=\"my_sorting_analyzer\"\n",
    ")\n"
   ]
  },
  {
   "cell_type": "markdown",
   "id": "48b4016b-9dcf-4be2-96bd-a54bd4f2d38b",
   "metadata": {},
   "source": [
    "The physical information we're interested in is computed using _extensions_. We can compute the `waveform` extension as follows:"
   ]
  },
  {
   "cell_type": "code",
   "execution_count": null,
   "id": "113c4bdc-6479-49f4-8993-468648e9a621",
   "metadata": {},
   "outputs": [],
   "source": [
    "analyzer.compute(\"waveforms\")"
   ]
  },
  {
   "cell_type": "markdown",
   "id": "caf4a87e-c74c-404e-af80-1aa8fea83713",
   "metadata": {},
   "source": [
    "Oh no - an error! The waveforms extensions requres the random_spikes extension. In fact, many extensions depend on other extensions. Here's all the current extension in spike interface and how they depend on one another:"
   ]
  },
  {
   "cell_type": "markdown",
   "id": "82af9ca1-5592-496e-8df4-0c9bca1a5bf1",
   "metadata": {},
   "source": [
    "So, we should calculate random_spikes as well as waveforms. In fact we can calculate several extensions in one funciton call. Here we'll calculate random_spikes, waveforms and templates:"
   ]
  },
  {
   "cell_type": "code",
   "execution_count": null,
   "id": "37c5ac6a-6629-4e88-b863-91360ea5c6f3",
   "metadata": {},
   "outputs": [],
   "source": [
    "analyzer.compute([\"random_spikes\",\"waveforms\",\"templates\"])"
   ]
  },
  {
   "cell_type": "markdown",
   "id": "734cae40-f708-4757-bbd5-686b60e871bb",
   "metadata": {},
   "source": [
    "Since we've saved the sorting analyzer as a folder, the extensions will appear in the folder too. Let's have a look...\n",
    "\n",
    "...\n",
    "\n",
    "...\n",
    "\n",
    "...\n",
    "\n",
    "Great! We'll now have a look at the waveforms we've calculated. We'll do this using a _widget_. These are used to make graphical, interactive output in Jupyter notebooks. They can be a bit fiddely to set up. For instance, I failed to get them working in VSCode. Others have succeeded. Let's have a go..."
   ]
  },
  {
   "cell_type": "code",
   "execution_count": null,
   "id": "3d93d452-7200-4ec4-8b35-5acd2e7dc45a",
   "metadata": {},
   "outputs": [],
   "source": [
    "# activate the matplotlib widget\n",
    "import matplotlib.pyplot\n",
    "%matplotlib widget\n",
    "\n",
    "# plot the waveforms\n",
    "si.plot_unit_waveforms(analyzer, unit_ids=[1,2], figsize=(6,4))"
   ]
  },
  {
   "cell_type": "markdown",
   "id": "ba8dc4e0-a070-4973-b7d7-4087b2867206",
   "metadata": {},
   "source": [
    "Beautiful! The `plot_unit_waveforms` function plots all the waveforms and the template for that unit. There are _a lot_ of plotting functions: https://spikeinterface.readthedocs.io/en/latest/modules/widgets.html#available-plotting-functions\n",
    "\n",
    "Let's try another one"
   ]
  },
  {
   "cell_type": "code",
   "execution_count": null,
   "id": "a1b26522-f79f-4e5e-ae8f-84dbe5a5bb52",
   "metadata": {},
   "outputs": [],
   "source": [
    "si.plot_unit_summary(analyzer, unit_id=1, figsize=(6,4))"
   ]
  },
  {
   "cell_type": "markdown",
   "id": "ab2a75ee-f0ad-49ec-b645-ed388243da57",
   "metadata": {},
   "source": [
    "There are many plotting functions which plot things like unit locations and spike amplitudes but we've not calcualted these yet. So let's calculate them! These are also extensions so work in the exact same way as the other extensions we've used.\n",
    "\n",
    "Since we're going to do lots of calculations, let's set up the calculation using a dictionary. This might suit your style of coding a better. If we give a blank dictionary to the extension name, it will compute the extension using the default parameters"
   ]
  },
  {
   "cell_type": "code",
   "execution_count": null,
   "id": "224b0b03-bfa4-437c-b590-b25dfa4a0ada",
   "metadata": {},
   "outputs": [],
   "source": [
    "extensions_to_compute = {\n",
    "    'principal_components': {\n",
    "        'n_components': 4\n",
    "    },\n",
    "    'spike_amplitudes': {},\n",
    "    'amplitude_scalings': {},\n",
    "    'spike_locations': {},\n",
    "    'template_metrics': {},\n",
    "    'template_similarity': {},\n",
    "    'unit_locations': {\n",
    "        'method': 'monopolar_triangulation'\n",
    "    },\n",
    "}\n",
    "\n",
    "analyzer.compute(extensions_to_compute)"
   ]
  },
  {
   "cell_type": "markdown",
   "id": "8bd1d210-4355-45af-82d0-eb9ee849e5ba",
   "metadata": {},
   "source": [
    "If you ever want to check the kwargs an extension takes, you can use Jupyter's help feature as follows:"
   ]
  },
  {
   "cell_type": "code",
   "execution_count": null,
   "id": "4c78b874-f8e9-48be-bb14-fb44ce0fbdcc",
   "metadata": {},
   "outputs": [],
   "source": [
    "si.compute_spike_amplitudes?"
   ]
  },
  {
   "cell_type": "markdown",
   "id": "514576c6-60ca-4b16-9d41-9742c77048d2",
   "metadata": {},
   "source": [
    "Now that we've calculated some properties, let's take a look at them. You can access the data which each extension hold using the `get_data` method. All of this is funneled through the sorting analyzer object."
   ]
  },
  {
   "cell_type": "code",
   "execution_count": null,
   "id": "5db8dd27-965c-48d8-9f87-48025d347e8c",
   "metadata": {},
   "outputs": [],
   "source": [
    "spike_amps = analyzer.get_extension('spike_amplitudes').get_data()\n",
    "spike_amps"
   ]
  },
  {
   "cell_type": "markdown",
   "id": "d694eca0-cee9-42d4-abce-681a91075e08",
   "metadata": {},
   "source": [
    "Above are the amplitudes of all the spikes in our recording. Let's try and visualise them ourselves using matplotlib"
   ]
  },
  {
   "cell_type": "code",
   "execution_count": null,
   "id": "8e014b09-19d7-4503-b0db-cc0b934c9e32",
   "metadata": {},
   "outputs": [],
   "source": [
    "import matplotlib.pyplot as plt\n",
    "\n",
    "plt.clf()\n",
    "plt.hist(spike_amps, bins=100)\n",
    "plt.show()"
   ]
  },
  {
   "cell_type": "markdown",
   "id": "2f0908b1-f359-4339-9c1f-a6a6db0540e6",
   "metadata": {},
   "source": [
    "As well as spike information, we also calculated unit features. These are the positions of the units:"
   ]
  },
  {
   "cell_type": "code",
   "execution_count": null,
   "id": "5d5424d6-2d06-4f43-87b3-9c48a0cd2579",
   "metadata": {},
   "outputs": [],
   "source": [
    "analyzer.get_extension(\"unit_locations\").get_data()"
   ]
  },
  {
   "cell_type": "markdown",
   "id": "103ab421-aacd-4a2f-9dae-89f22bf04684",
   "metadata": {},
   "source": [
    "Instead of making our own plotting function, let's use one of the pre-built ones. Again, this uses widgets."
   ]
  },
  {
   "cell_type": "code",
   "execution_count": null,
   "id": "a2f75534-ad82-4277-a9f5-f11c709ca0eb",
   "metadata": {},
   "outputs": [],
   "source": [
    "si.plot_unit_locations(analyzer, figsize=(4,4))"
   ]
  },
  {
   "cell_type": "markdown",
   "id": "394a977e-ceb6-4417-a894-45b8df4afd91",
   "metadata": {},
   "source": [
    "One of these doesn't look very physical: it's located outside of the probe! The `matplotlib` widget is static. Sometimes the dynamic `ipywidgets` widget can be helpful. This is another widget, which works for some plotting functions (again, more details here: https://spikeinterface.readthedocs.io/en/latest/modules/widgets.html#available-plotting-functions)"
   ]
  },
  {
   "cell_type": "code",
   "execution_count": null,
   "id": "17edb022-0ce1-41f3-a71d-5e59e477f197",
   "metadata": {},
   "outputs": [],
   "source": [
    "si.plot_unit_locations(analyzer, backend=\"ipywidgets\")"
   ]
  },
  {
   "cell_type": "markdown",
   "id": "2e574097-faa8-47e6-9e1a-e80ffbf01a0c",
   "metadata": {},
   "source": [
    "So, using this widget we've discovered that unit number 7 looks a bit suspicious. Nice."
   ]
  },
  {
   "cell_type": "markdown",
   "id": "4fff7a29-cb17-4006-8c19-8fed22226f1e",
   "metadata": {},
   "source": [
    "# END\n",
    "\n",
    "That's the end of this notebook. Hopefully you've learned about\n",
    "- Visualising your sorting results\n",
    "- Calculating extensions, and their parent/child relationships\n",
    "- Accessing extension data and visualising them"
   ]
  }
 ],
 "metadata": {
  "kernelspec": {
   "display_name": "SpikeDev",
   "language": "python",
   "name": "spikedev"
  },
  "language_info": {
   "codemirror_mode": {
    "name": "ipython",
    "version": 3
   },
   "file_extension": ".py",
   "mimetype": "text/x-python",
   "name": "python",
   "nbconvert_exporter": "python",
   "pygments_lexer": "ipython3",
   "version": "3.11.5"
  }
 },
 "nbformat": 4,
 "nbformat_minor": 5
}
