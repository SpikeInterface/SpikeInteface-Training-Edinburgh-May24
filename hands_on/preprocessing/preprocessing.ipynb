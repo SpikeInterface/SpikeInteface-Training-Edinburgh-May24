{
 "cells": [
  {
   "cell_type": "markdown",
   "id": "890b59dc-9449-4f51-aa1b-32010278e98c",
   "metadata": {},
   "source": [
    "# Preprocessing tutorial"
   ]
  },
  {
   "cell_type": "code",
   "execution_count": null,
   "id": "2aa4e0a2-7ec6-4754-9ca1-7dddcb2dbc4e",
   "metadata": {},
   "outputs": [],
   "source": [
    "from pathlib import Path\n",
    "\n",
    "import spikeinterface as si\n",
    "import spikeinterface.extractors as se\n",
    "import spikeinterface.preprocessing as spre\n",
    "import spikeinterface.widgets as sw"
   ]
  },
  {
   "cell_type": "code",
   "execution_count": null,
   "id": "477c702f-c564-45f2-aa48-9696b450cfc5",
   "metadata": {},
   "outputs": [],
   "source": [
    "%matplotlib widget"
   ]
  },
  {
   "cell_type": "markdown",
   "id": "c91889e0-6a51-4bb4-b9be-a03fd0976667",
   "metadata": {},
   "source": [
    "## Destriping Neuropixels data\n",
    "\n",
    "Neuropixels probes (and similar) have long shanks that..>\n",
    "\n",
    "\n",
    "To demonstrate this, we are going to use some test datasets shared by Olivier Winter from IBL.\n",
    "\n",
    "For more information, please refer to: ..."
   ]
  },
  {
   "cell_type": "code",
   "execution_count": null,
   "id": "295e2853-ccca-4689-b9dd-b2f35200fa73",
   "metadata": {},
   "outputs": [],
   "source": [
    "base_folder = Path(\"../../SpikeInterface Dataset Tutorial\")"
   ]
  },
  {
   "cell_type": "code",
   "execution_count": null,
   "id": "4bdbbafe-1b4e-4a31-8bde-cd658b860483",
   "metadata": {},
   "outputs": [],
   "source": [
    "data_folder = base_folder / \"datatset_destriping\"\n",
    "# session = \"4c04120d-523a-4795-ba8f-49dbb8d9f63a\"\n",
    "session = \"68f06c5f-8566-4a4f-a4b1-ab8398724913\"\n",
    "# session = \"8413c5c6-b42b-4ec6-b751-881a54413628\"\n",
    "# session = \"f74a6b9a-b8a5-4c80-9c30-7dd4cdbb48c0\"\n"
   ]
  },
  {
   "cell_type": "code",
   "execution_count": null,
   "id": "1aea260c-e0bb-4e3b-9b69-26b9b12357d7",
   "metadata": {},
   "outputs": [],
   "source": [
    "ibl_data_cbin_file = [p for p in (data_folder / session).iterdir() if p.name.endswith(\".ap.cbin\")][0]"
   ]
  },
  {
   "cell_type": "code",
   "execution_count": null,
   "id": "b1a028d1-d72d-4717-bdee-68379417e480",
   "metadata": {},
   "outputs": [],
   "source": [
    "recording = se.read_cbin_ibl(cbin_file=ibl_data_cbin_file)\n",
    "recording"
   ]
  },
  {
   "cell_type": "markdown",
   "id": "ac3d9ebe-924c-487e-82e1-9fb447230735",
   "metadata": {},
   "source": [
    "Let's first take a look at the \"raw\" traces:"
   ]
  },
  {
   "cell_type": "code",
   "execution_count": null,
   "id": "c5f98c2e-905d-4f2d-93e9-652a92df7e4c",
   "metadata": {},
   "outputs": [],
   "source": [
    "w = sw.plot_traces(recording, scale=2)"
   ]
  },
  {
   "cell_type": "markdown",
   "id": "6b4693fc-8fe5-43b3-b9e9-6b3d6a3da4e8",
   "metadata": {},
   "source": [
    "We notice there are both some horizontal and vertical \"stripes\", plus some \"patches\".\n",
    "\n",
    "Although Neuropixels data have a hardware highpass filter (cutoff at 150Hz), there can be come \"leftover\" content from the LFP frequency band.\n",
    "\n",
    "So let's first highpass the data and see how it looks:"
   ]
  },
  {
   "cell_type": "code",
   "execution_count": null,
   "id": "a9760414-3780-4ba8-85b5-e9f4f6f391f9",
   "metadata": {},
   "outputs": [],
   "source": [
    "recording_hp = spre.highpass_filter(recording)\n",
    "w = sw.plot_traces(recording_hp, scale=5)"
   ]
  },
  {
   "cell_type": "markdown",
   "id": "675c07f1-c945-4b31-b556-e5e1172a3803",
   "metadata": {},
   "source": [
    "Now the \"patches\" are mainly gone, but we can still see some vertical artefacts and some horizontal lines.\n",
    "\n",
    "While the vertical lines can be attributed to transient external noise, the horizontal ones are mainly due to a channel either being too silent (\"dead\") or too \"noisy\".\n",
    "\n",
    "In addition, on the top of the probe we can observe an area of faint activity. This could indicate that the channels are not inserted in the brain, which is commont when targeting a surface area."
   ]
  },
  {
   "cell_type": "code",
   "execution_count": null,
   "id": "52921954-79e4-4a9c-bbfb-2c9b78e40f08",
   "metadata": {},
   "outputs": [],
   "source": [
    "# detect bad channels + CMR / highpass_spatial_filter()"
   ]
  },
  {
   "cell_type": "code",
   "execution_count": null,
   "id": "f8a41486-8b86-45fd-b5f2-19c62529b818",
   "metadata": {},
   "outputs": [],
   "source": [
    "# whitening / zscore?\n",
    "\n",
    "# mention motion"
   ]
  },
  {
   "cell_type": "markdown",
   "id": "e5fd61b1-2dbc-497d-b0d2-62b51f0010c5",
   "metadata": {},
   "source": [
    "## Remove artifacts (NP2.0)"
   ]
  },
  {
   "cell_type": "code",
   "execution_count": null,
   "id": "f77e4bda-c6cc-4ae7-bfa0-16c94fbd95f0",
   "metadata": {},
   "outputs": [],
   "source": [
    "# notch filter\n",
    "# blank with zeros (best)\n",
    "# blank with noise"
   ]
  },
  {
   "cell_type": "markdown",
   "id": "0489d8da-438e-4844-b699-037211fb9494",
   "metadata": {},
   "source": [
    "# Save preprocessing\n",
    "\n",
    "dump_to_json(relative_to=)\n",
    "\n",
    "# reload with base_folder"
   ]
  }
 ],
 "metadata": {
  "kernelspec": {
   "display_name": "Python 3 (ipykernel)",
   "language": "python",
   "name": "python3"
  },
  "language_info": {
   "codemirror_mode": {
    "name": "ipython",
    "version": 3
   },
   "file_extension": ".py",
   "mimetype": "text/x-python",
   "name": "python",
   "nbconvert_exporter": "python",
   "pygments_lexer": "ipython3",
   "version": "3.11.6"
  }
 },
 "nbformat": 4,
 "nbformat_minor": 5
}
