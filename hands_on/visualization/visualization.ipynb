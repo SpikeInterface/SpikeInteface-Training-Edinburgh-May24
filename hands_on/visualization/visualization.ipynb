{
 "cells": [
  {
   "cell_type": "markdown",
   "id": "97d4a9da-f5b5-42f4-aab8-3590a22c2a70",
   "metadata": {},
   "source": [
    "# Visualization\n",
    "\n",
    "This tutorial will show some of the available interactive visualizations that are available in (or compatible with) SpikeInterface."
   ]
  },
  {
   "cell_type": "code",
   "execution_count": null,
   "id": "66f5bcec-c831-4e62-8b3f-03ce04069e71",
   "metadata": {},
   "outputs": [],
   "source": [
    "from pathlib import Path\n",
    "\n",
    "\n",
    "import spikeinterface as si\n",
    "import spikeinterface.preprocessing as spre\n",
    "import spikeinterface.postprocessing as spost\n",
    "import spikeinterface.curation as scur\n",
    "import spikeinterface.widgets as sw"
   ]
  },
  {
   "cell_type": "markdown",
   "id": "b6b179df-d7f7-41c0-98dc-cf36cadb5869",
   "metadata": {},
   "source": [
    "As usual, let's first generate some synthetic data:"
   ]
  },
  {
   "cell_type": "code",
   "execution_count": null,
   "id": "dbe85b4c-9eb7-4eb7-9fee-ea373f57af7b",
   "metadata": {},
   "outputs": [],
   "source": [
    "recording, sorting = si.generate_ground_truth_recording(durations=[64], num_channels=128, num_units=30, seed=2205)"
   ]
  },
  {
   "cell_type": "markdown",
   "id": "57f6fde2-2b2d-4dcc-8b45-6e55446b439c",
   "metadata": {},
   "source": [
    "## sortingview\n",
    "\n",
    "\n",
    "[sortingview](https://github.com/magland/sortingview) is a Python package developed by Jeremy Magland that visualizes ephys data in the cloud.\n",
    "\n",
    "It uses the [figurl](https://github.com/flatironinstitute/figurl/blob/main/README.md) technology to push the visualization data to the cloud and produce self-contained URL link that points will allow you to visualize and interact with the data from any computer connected to the internet.\n",
    "\n",
    "Pretty cool, right??\n",
    "\n",
    "To get started, you just need to run this command, click on the link, and login with your GitHub account:"
   ]
  },
  {
   "cell_type": "code",
   "execution_count": null,
   "id": "fe3af495-a7a3-4860-ba3b-b22a7558a294",
   "metadata": {},
   "outputs": [],
   "source": [
    "!kachery-cloud-init"
   ]
  },
  {
   "cell_type": "markdown",
   "id": "f1ff3f17-37e3-486b-998f-b01ea245a8af",
   "metadata": {},
   "source": [
    "There are a few plot_* functions that support `sortingview` as backend, but the two most useful ones are the:\n",
    "\n",
    "- `plot_traces()`\n",
    "- `plot_sorting_summary()`"
   ]
  },
  {
   "cell_type": "markdown",
   "id": "5b4ad7ae-314e-4697-8691-207d89e7bdbd",
   "metadata": {},
   "source": [
    "### plot_traces()"
   ]
  },
  {
   "cell_type": "code",
   "execution_count": null,
   "id": "99050430-e5ad-40dc-a03a-9c1aa039efc3",
   "metadata": {},
   "outputs": [],
   "source": [
    "# let's do some preprocessing\n",
    "recording = spre.depth_order(recording)\n",
    "recording_hp = spre.highpass_filter(recording)\n",
    "recording_cmr = spre.common_reference(recording_hp)\n",
    "\n",
    "\n",
    "recording_layers = dict(\n",
    "    raw=recording,\n",
    "    highpass=recording_hp,\n",
    "    cmr=recording_cmr\n",
    ")\n",
    "\n",
    "w = sw.plot_traces(recording_layers, figlabel=\"SpikeInterface tutorial: plot_traces\", clim=(-50, 50), backend=\"sortingview\")"
   ]
  },
  {
   "cell_type": "markdown",
   "id": "6168268b-ef2a-46cd-b4dc-d70e06df862e",
   "metadata": {},
   "source": [
    "# plot_sorting_summary\n",
    "\n",
    "For this plot, we need an analyzer and some extensions:"
   ]
  },
  {
   "cell_type": "code",
   "execution_count": null,
   "id": "3628e975-28ff-4765-a3c2-327c01316f90",
   "metadata": {},
   "outputs": [],
   "source": [
    "analyzer = si.create_sorting_analyzer(sorting, recording)"
   ]
  },
  {
   "cell_type": "code",
   "execution_count": null,
   "id": "eb83cef4-5d62-42d0-981b-8fd7b843667b",
   "metadata": {},
   "outputs": [],
   "source": [
    "required_extensions = [\n",
    "    \"random_spikes\",\n",
    "    \"waveforms\",\n",
    "    \"templates\",\n",
    "    \"unit_locations\",\n",
    "    \"template_similarity\",\n",
    "    \"spike_amplitudes\",\n",
    "    \"correlograms\"\n",
    "]\n",
    "analyzer.compute(required_extensions)"
   ]
  },
  {
   "cell_type": "code",
   "execution_count": null,
   "id": "26fea025-1034-4eb7-90e7-cc81e357f0fa",
   "metadata": {},
   "outputs": [],
   "source": [
    "w = sw.plot_sorting_summary(analyzer, curation=True, label_choices=[\"noise\", \"MUA\", \"SUA\"], backend=\"sortingview\")"
   ]
  },
  {
   "cell_type": "markdown",
   "id": "b56b7e7d-9aa4-4489-81e0-834f4b7d38de",
   "metadata": {},
   "source": [
    "After curating, we can apply the curation either from the downloaded JSON file or with the URI:"
   ]
  },
  {
   "cell_type": "code",
   "execution_count": null,
   "id": "0faadad0-8aab-407f-92a6-248282221456",
   "metadata": {},
   "outputs": [],
   "source": [
    "curation_json = \"sorting-curation.json\"\n",
    "\n",
    "sorting_curated_from_json = scur.apply_sortingview_curation(sorting, uri_or_json=curation_json)\n",
    "sorting_curated_from_json"
   ]
  },
  {
   "cell_type": "code",
   "execution_count": null,
   "id": "21b6e332-d8a6-4c83-b539-527e602ebb45",
   "metadata": {},
   "outputs": [],
   "source": [
    "uri = \"sha1://090dcb14f4a57781862be59a20ed5732b8341cdd\"\n",
    "sorting_curated_from_uri = scur.apply_sortingview_curation(sorting, uri_or_json=uri)\n",
    "sorting_curated_from_uri"
   ]
  },
  {
   "cell_type": "markdown",
   "id": "42887dcf-c53c-47a5-b3d2-2805cc4fc050",
   "metadata": {},
   "source": [
    "## spikeinterface gui"
   ]
  },
  {
   "cell_type": "code",
   "execution_count": null,
   "id": "6a9958a3-20e3-484d-90c9-75447fa48bad",
   "metadata": {},
   "outputs": [],
   "source": [
    "analyzer_saved = analyzer.save_as(\n",
    "    folder=\"analyzer_for_visualization\",\n",
    "    format=\"binary_folder\"\n",
    ")"
   ]
  },
  {
   "cell_type": "code",
   "execution_count": null,
   "id": "f065dbe0-3309-4a1d-8f01-362c0ce8961f",
   "metadata": {},
   "outputs": [],
   "source": [
    "# !si-gui analyzer_for_visualization"
   ]
  }
 ],
 "metadata": {
  "kernelspec": {
   "display_name": "Python 3 (ipykernel)",
   "language": "python",
   "name": "python3"
  },
  "language_info": {
   "codemirror_mode": {
    "name": "ipython",
    "version": 3
   },
   "file_extension": ".py",
   "mimetype": "text/x-python",
   "name": "python",
   "nbconvert_exporter": "python",
   "pygments_lexer": "ipython3",
   "version": "3.10.12"
  }
 },
 "nbformat": 4,
 "nbformat_minor": 5
}
