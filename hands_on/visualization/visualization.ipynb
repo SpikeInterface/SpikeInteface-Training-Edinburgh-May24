{
 "cells": [
  {
   "cell_type": "markdown",
   "id": "97d4a9da-f5b5-42f4-aab8-3590a22c2a70",
   "metadata": {},
   "source": [
    "# Visualization"
   ]
  },
  {
   "cell_type": "code",
   "execution_count": 1,
   "id": "2c108bd4-58a9-4b13-8c02-0eca4d755102",
   "metadata": {},
   "outputs": [],
   "source": [
    "# sortingview"
   ]
  },
  {
   "cell_type": "code",
   "execution_count": null,
   "id": "f1bc72f0-1f25-4bbf-9455-ef0b80325c1f",
   "metadata": {},
   "outputs": [],
   "source": [
    "# spikeinterface gui"
   ]
  }
 ],
 "metadata": {
  "kernelspec": {
   "display_name": "Python 3 (ipykernel)",
   "language": "python",
   "name": "python3"
  },
  "language_info": {
   "codemirror_mode": {
    "name": "ipython",
    "version": 3
   },
   "file_extension": ".py",
   "mimetype": "text/x-python",
   "name": "python",
   "nbconvert_exporter": "python",
   "pygments_lexer": "ipython3",
   "version": "3.11.6"
  }
 },
 "nbformat": 4,
 "nbformat_minor": 5
}
