{
 "cells": [
  {
   "cell_type": "markdown",
   "id": "fde76207-cf5e-49cf-89f4-f4f00b1b6bcc",
   "metadata": {},
   "source": [
    "### Test that you're ready for Tuesday's workshop!\n",
    "\n",
    "If you can run every cell in this notebook without error, you are ready for _all_ of Tuesday's sessions. Find installion instructions on the github page for this event: https://github.com/SpikeInterface/SpikeInteface-Training-Edinburgh-May24\n",
    "\n",
    "Please download the datasets we'll use for the tutorials, which are also listed on the page above.\n",
    "\n",
    "If you have any problems, try and find a spikeinterface expert on Monday.\n",
    "\n",
    "**Note**: we're going to be using the latest version of spikeinterface, which isn't officially released yet. This is why we \"pip install\" spikeinterface from github.\n",
    "\n",
    "Now, on with the checks..."
   ]
  },
  {
   "cell_type": "code",
   "execution_count": null,
   "id": "6fed967f-d45c-40c5-8ff2-a4e2cd0be38d",
   "metadata": {},
   "outputs": [],
   "source": [
    "# Check that some \"basic\" packages are installed\n",
    "import numpy as np\n",
    "import pandas\n",
    "import matplotlib.pyplot as plt"
   ]
  },
  {
   "cell_type": "code",
   "execution_count": null,
   "id": "c7e5b691-2914-4acd-9647-b943cb08f475",
   "metadata": {},
   "outputs": [],
   "source": [
    "# Check that spikeinterface is installed\n",
    "# If it's not, help: https://github.com/SpikeInterface/spikeinterface?tab=readme-ov-file#how-to-install-spikeinterface\n",
    "import spikeinterface as si"
   ]
  },
  {
   "cell_type": "code",
   "execution_count": null,
   "id": "616fb239-27be-40fb-9c64-4d8e95d9e442",
   "metadata": {},
   "outputs": [],
   "source": [
    "# Check that you've installed the latest version of spikeinterface\n",
    "version = int(si.__version__.split(\".\")[1])\n",
    "if version == 101:\n",
    "    print(\"Excellent. Keep going\")\n",
    "else:\n",
    "    prnt(f\"STOP! You've got spikeinterface version {version} installed. Please update\")"
   ]
  },
  {
   "cell_type": "code",
   "execution_count": null,
   "id": "a682f9e4-0eba-4b76-81fd-8b423b011752",
   "metadata": {},
   "outputs": [],
   "source": [
    "# Check that probeinterface is installed\n",
    "import probeinterface as pi"
   ]
  },
  {
   "cell_type": "code",
   "execution_count": null,
   "id": "764310a3-f516-4304-924b-43b2a38ca9b8",
   "metadata": {},
   "outputs": [],
   "source": [
    "# For one of the tutorials, we'll use some data from the ___ lab.\n",
    "# You can download it here: \n",
    "# Now check if you can read it:\n",
    "import os\n",
    "# Put the path to the file here. Here's an example\n",
    "path_to_file = Path('~/Work/Edinburgh/Spike/data/')\n",
    "si.read_openephys(folder_path = path_to_file)\n"
   ]
  },
  {
   "cell_type": "code",
   "execution_count": null,
   "id": "aee30292-46dc-4064-9fac-67cde8e96909",
   "metadata": {},
   "outputs": [],
   "source": [
    "# Check that the matplotlib widget works\n",
    "# A slightly interactive figure should appear,\n",
    "# like this one: https://matplotlib.org/ipympl/\n",
    "# If it doesn't, read that website.\n",
    "%matplotlib widget\n",
    "\n",
    "fig, ax = plt.subplots()\n",
    "\n",
    "x = np.linspace(0, 2*np.pi, 100)\n",
    "y = np.sin(3*x)\n",
    "ax.plot(x, y)"
   ]
  },
  {
   "cell_type": "markdown",
   "id": "111abff4-eb7a-4f3f-8773-36e1dcfb3f98",
   "metadata": {},
   "source": [
    "## END\n",
    "\n",
    "Excellent. You're ready for Tuesday!"
   ]
  }
 ],
 "metadata": {
  "kernelspec": {
   "display_name": "SpikeDev",
   "language": "python",
   "name": "spikedev"
  },
  "language_info": {
   "codemirror_mode": {
    "name": "ipython",
    "version": 3
   },
   "file_extension": ".py",
   "mimetype": "text/x-python",
   "name": "python",
   "nbconvert_exporter": "python",
   "pygments_lexer": "ipython3",
   "version": "3.11.5"
  }
 },
 "nbformat": 4,
 "nbformat_minor": 5
}
