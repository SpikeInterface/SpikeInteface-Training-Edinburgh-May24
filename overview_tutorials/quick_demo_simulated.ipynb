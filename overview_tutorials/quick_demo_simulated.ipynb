{
 "cells": [
  {
   "cell_type": "markdown",
   "metadata": {},
   "source": [
    "# Simple sorter on generated dataset\n",
    "\n",
    "Here we will simulate 5min of a very simple dataset one tetrode with 5 units.\n",
    "\n",
    "We will run a very simple sorter on it which is the very lagacy way on doing spike sorting:\n",
    "  1. preprocess signal\n",
    "  2. detect peaks with a treshold\n",
    "  3. extract waveforms snipets\n",
    "  4. project using SVD (aka PCA)\n",
    "  5. run and try some clustering algos on it : HDBSCAN or KMeans or MeanShift or ...\n",
    "\n",
    "\n",
    "This will shoudl demonstrate how easy to do legacy spike sorting and also the drawback and limit of this \n",
    "apprach without template matching.\n"
   ]
  },
  {
   "cell_type": "code",
   "execution_count": null,
   "metadata": {},
   "outputs": [],
   "source": [
    "# this is for debuging\n",
    "%matplotlib inline\n",
    "%load_ext autoreload\n",
    "%autoreload 2"
   ]
  },
  {
   "cell_type": "code",
   "execution_count": 1,
   "metadata": {},
   "outputs": [],
   "source": [
    "# some imports\n",
    "from pathlib import Path\n",
    "import shutil\n",
    "\n",
    "import numpy as np\n",
    "\n",
    "import matplotlib.pyplot as plt\n",
    "\n",
    "import spikeinterface.full as si"
   ]
  },
  {
   "cell_type": "code",
   "execution_count": 2,
   "metadata": {},
   "outputs": [],
   "source": [
    "# the path where we want to run the spike sorting\n",
    "base_folder = Path(\"/home/samuel/DataSpikeSorting/Ediburgh_SI_tutos/generated_recording/\")\n"
   ]
  },
  {
   "cell_type": "code",
   "execution_count": 4,
   "metadata": {},
   "outputs": [],
   "source": [
    "si.set_global_job_kwargs(n_jobs=-1, progress_bar=True, chunk_duration=\"1s\")"
   ]
  },
  {
   "cell_type": "markdown",
   "metadata": {},
   "source": [
    "## Generate data\n",
    "\n",
    "spikeinterface have a from simple to sophisticated way of generating fake dataset with the grountruth\n",
    "\n",
    "Here we simulated a simple recording of 5 min with 5 units on a tetrode."
   ]
  },
  {
   "cell_type": "code",
   "execution_count": 5,
   "metadata": {},
   "outputs": [
    {
     "name": "stdout",
     "output_type": "stream",
     "text": [
      "\u001b[0;31mSignature:\u001b[0m\n",
      "\u001b[0msi\u001b[0m\u001b[0;34m.\u001b[0m\u001b[0mgenerate_drifting_recording\u001b[0m\u001b[0;34m(\u001b[0m\u001b[0;34m\u001b[0m\n",
      "\u001b[0;34m\u001b[0m    \u001b[0mnum_units\u001b[0m\u001b[0;34m=\u001b[0m\u001b[0;36m250\u001b[0m\u001b[0;34m,\u001b[0m\u001b[0;34m\u001b[0m\n",
      "\u001b[0;34m\u001b[0m    \u001b[0mduration\u001b[0m\u001b[0;34m=\u001b[0m\u001b[0;36m600.0\u001b[0m\u001b[0;34m,\u001b[0m\u001b[0;34m\u001b[0m\n",
      "\u001b[0;34m\u001b[0m    \u001b[0msampling_frequency\u001b[0m\u001b[0;34m=\u001b[0m\u001b[0;36m30000.0\u001b[0m\u001b[0;34m,\u001b[0m\u001b[0;34m\u001b[0m\n",
      "\u001b[0;34m\u001b[0m    \u001b[0mprobe_name\u001b[0m\u001b[0;34m=\u001b[0m\u001b[0;34m'Neuropixel-128'\u001b[0m\u001b[0;34m,\u001b[0m\u001b[0;34m\u001b[0m\n",
      "\u001b[0;34m\u001b[0m    \u001b[0mgenerate_probe_kwargs\u001b[0m\u001b[0;34m=\u001b[0m\u001b[0;32mNone\u001b[0m\u001b[0;34m,\u001b[0m\u001b[0;34m\u001b[0m\n",
      "\u001b[0;34m\u001b[0m    \u001b[0mgenerate_unit_locations_kwargs\u001b[0m\u001b[0;34m=\u001b[0m\u001b[0;34m{\u001b[0m\u001b[0;34m'margin_um'\u001b[0m\u001b[0;34m:\u001b[0m \u001b[0;36m20.0\u001b[0m\u001b[0;34m,\u001b[0m \u001b[0;34m'minimum_z'\u001b[0m\u001b[0;34m:\u001b[0m \u001b[0;36m5.0\u001b[0m\u001b[0;34m,\u001b[0m \u001b[0;34m'maximum_z'\u001b[0m\u001b[0;34m:\u001b[0m \u001b[0;36m45.0\u001b[0m\u001b[0;34m,\u001b[0m \u001b[0;34m'minimum_distance'\u001b[0m\u001b[0;34m:\u001b[0m \u001b[0;36m18.0\u001b[0m\u001b[0;34m,\u001b[0m \u001b[0;34m'max_iteration'\u001b[0m\u001b[0;34m:\u001b[0m \u001b[0;36m100\u001b[0m\u001b[0;34m,\u001b[0m \u001b[0;34m'distance_strict'\u001b[0m\u001b[0;34m:\u001b[0m \u001b[0;32mFalse\u001b[0m\u001b[0;34m}\u001b[0m\u001b[0;34m,\u001b[0m\u001b[0;34m\u001b[0m\n",
      "\u001b[0;34m\u001b[0m    \u001b[0mgenerate_displacement_vector_kwargs\u001b[0m\u001b[0;34m=\u001b[0m\u001b[0;34m{\u001b[0m\u001b[0;34m'displacement_sampling_frequency'\u001b[0m\u001b[0;34m:\u001b[0m \u001b[0;36m5.0\u001b[0m\u001b[0;34m,\u001b[0m \u001b[0;34m'drift_start_um'\u001b[0m\u001b[0;34m:\u001b[0m \u001b[0;34m[\u001b[0m\u001b[0;36m0\u001b[0m\u001b[0;34m,\u001b[0m \u001b[0;36m20\u001b[0m\u001b[0;34m]\u001b[0m\u001b[0;34m,\u001b[0m \u001b[0;34m'drift_stop_um'\u001b[0m\u001b[0;34m:\u001b[0m \u001b[0;34m[\u001b[0m\u001b[0;36m0\u001b[0m\u001b[0;34m,\u001b[0m \u001b[0;34m-\u001b[0m\u001b[0;36m20\u001b[0m\u001b[0;34m]\u001b[0m\u001b[0;34m,\u001b[0m \u001b[0;34m'drift_step_um'\u001b[0m\u001b[0;34m:\u001b[0m \u001b[0;36m1\u001b[0m\u001b[0;34m,\u001b[0m \u001b[0;34m'motion_list'\u001b[0m\u001b[0;34m:\u001b[0m \u001b[0;34m[\u001b[0m\u001b[0;34m{\u001b[0m\u001b[0;34m'drift_mode'\u001b[0m\u001b[0;34m:\u001b[0m \u001b[0;34m'zigzag'\u001b[0m\u001b[0;34m,\u001b[0m \u001b[0;34m'non_rigid_gradient'\u001b[0m\u001b[0;34m:\u001b[0m \u001b[0;32mNone\u001b[0m\u001b[0;34m,\u001b[0m \u001b[0;34m't_start_drift'\u001b[0m\u001b[0;34m:\u001b[0m \u001b[0;36m60.0\u001b[0m\u001b[0;34m,\u001b[0m \u001b[0;34m't_end_drift'\u001b[0m\u001b[0;34m:\u001b[0m \u001b[0;32mNone\u001b[0m\u001b[0;34m,\u001b[0m \u001b[0;34m'period_s'\u001b[0m\u001b[0;34m:\u001b[0m \u001b[0;36m200\u001b[0m\u001b[0;34m}\u001b[0m\u001b[0;34m]\u001b[0m\u001b[0;34m}\u001b[0m\u001b[0;34m,\u001b[0m\u001b[0;34m\u001b[0m\n",
      "\u001b[0;34m\u001b[0m    \u001b[0mgenerate_templates_kwargs\u001b[0m\u001b[0;34m=\u001b[0m\u001b[0;34m{\u001b[0m\u001b[0;34m'ms_before'\u001b[0m\u001b[0;34m:\u001b[0m \u001b[0;36m1.5\u001b[0m\u001b[0;34m,\u001b[0m \u001b[0;34m'ms_after'\u001b[0m\u001b[0;34m:\u001b[0m \u001b[0;36m3.0\u001b[0m\u001b[0;34m,\u001b[0m \u001b[0;34m'mode'\u001b[0m\u001b[0;34m:\u001b[0m \u001b[0;34m'ellipsoid'\u001b[0m\u001b[0;34m,\u001b[0m \u001b[0;34m'unit_params'\u001b[0m\u001b[0;34m:\u001b[0m \u001b[0;34m{\u001b[0m\u001b[0;34m'alpha'\u001b[0m\u001b[0;34m:\u001b[0m \u001b[0;34m(\u001b[0m\u001b[0;36m150.0\u001b[0m\u001b[0;34m,\u001b[0m \u001b[0;36m500.0\u001b[0m\u001b[0;34m)\u001b[0m\u001b[0;34m,\u001b[0m \u001b[0;34m'spatial_decay'\u001b[0m\u001b[0;34m:\u001b[0m \u001b[0;34m(\u001b[0m\u001b[0;36m10\u001b[0m\u001b[0;34m,\u001b[0m \u001b[0;36m45\u001b[0m\u001b[0;34m)\u001b[0m\u001b[0;34m}\u001b[0m\u001b[0;34m}\u001b[0m\u001b[0;34m,\u001b[0m\u001b[0;34m\u001b[0m\n",
      "\u001b[0;34m\u001b[0m    \u001b[0mgenerate_sorting_kwargs\u001b[0m\u001b[0;34m=\u001b[0m\u001b[0;34m{\u001b[0m\u001b[0;34m'firing_rates'\u001b[0m\u001b[0;34m:\u001b[0m \u001b[0;34m(\u001b[0m\u001b[0;36m2.0\u001b[0m\u001b[0;34m,\u001b[0m \u001b[0;36m8.0\u001b[0m\u001b[0;34m)\u001b[0m\u001b[0;34m,\u001b[0m \u001b[0;34m'refractory_period_ms'\u001b[0m\u001b[0;34m:\u001b[0m \u001b[0;36m4.0\u001b[0m\u001b[0;34m}\u001b[0m\u001b[0;34m,\u001b[0m\u001b[0;34m\u001b[0m\n",
      "\u001b[0;34m\u001b[0m    \u001b[0mgenerate_noise_kwargs\u001b[0m\u001b[0;34m=\u001b[0m\u001b[0;34m{\u001b[0m\u001b[0;34m'noise_levels'\u001b[0m\u001b[0;34m:\u001b[0m \u001b[0;34m(\u001b[0m\u001b[0;36m12.0\u001b[0m\u001b[0;34m,\u001b[0m \u001b[0;36m15.0\u001b[0m\u001b[0;34m)\u001b[0m\u001b[0;34m,\u001b[0m \u001b[0;34m'spatial_decay'\u001b[0m\u001b[0;34m:\u001b[0m \u001b[0;36m25.0\u001b[0m\u001b[0;34m}\u001b[0m\u001b[0;34m,\u001b[0m\u001b[0;34m\u001b[0m\n",
      "\u001b[0;34m\u001b[0m    \u001b[0mmore_outputs\u001b[0m\u001b[0;34m=\u001b[0m\u001b[0;32mFalse\u001b[0m\u001b[0;34m,\u001b[0m\u001b[0;34m\u001b[0m\n",
      "\u001b[0;34m\u001b[0m    \u001b[0mseed\u001b[0m\u001b[0;34m=\u001b[0m\u001b[0;32mNone\u001b[0m\u001b[0;34m,\u001b[0m\u001b[0;34m\u001b[0m\n",
      "\u001b[0;34m\u001b[0m\u001b[0;34m)\u001b[0m\u001b[0;34m\u001b[0m\u001b[0;34m\u001b[0m\u001b[0m\n",
      "\u001b[0;31mDocstring:\u001b[0m\n",
      "Generated two synthetic recordings: one static and one drifting but with same\n",
      "units and same spiketrains.\n",
      "\n",
      "Parameters\n",
      "----------\n",
      "num_units: int, default: 250\n",
      "    Number of units.\n",
      "duration: float, default: 600.\n",
      "    The duration in seconds.\n",
      "sampling_frequency: float, dfault: 30000.\n",
      "    The sampling frequency.\n",
      "probe_name: str, default: \"Neuropixel-128\"\n",
      "    The probe type if generate_probe_kwargs is None.\n",
      "generate_probe_kwargs: None or dict\n",
      "    A dict to generate the probe, this supersede probe_name when not None.\n",
      "generate_unit_locations_kwargs: dict\n",
      "    Parameters given to generate_unit_locations().\n",
      "generate_displacement_vector_kwargs: dict\n",
      "    Parameters given to generate_displacement_vector().\n",
      "generate_templates_kwargs: dict\n",
      "    Parameters given to generate_templates()\n",
      "generate_sorting_kwargs: dict\n",
      "    Parameters given to generate_sorting().\n",
      "generate_noise_kwargs: dict\n",
      "    Parameters given to generate_noise().\n",
      "more_outputs: bool, default False\n",
      "    Return optionaly a dict with more variables.\n",
      "seed: None ot int\n",
      "    A unique seed for all steps.\n",
      "\n",
      "Returns\n",
      "-------\n",
      "static_recording: Recording\n",
      "    A generated recording with no motion.\n",
      "drifting_recording: Recording\n",
      "    A generated recording with motion.\n",
      "sorting: Sorting\n",
      "    The ground trith soring object.\n",
      "    Same for both recordings.\n",
      "more_infos:\n",
      "    If more_outputs=True, then return also a dict that contain various information like:\n",
      "        * displacement_vectors\n",
      "        * displacement_sampling_frequency\n",
      "        * unit_locations\n",
      "        * displacement_unit_factor\n",
      "        * unit_displacements\n",
      "    This can be helpfull for motion benchmark.\n",
      "\u001b[0;31mFile:\u001b[0m      ~/Documents/SpikeInterface/spikeinterface/src/spikeinterface/generation/drifting_generator.py\n",
      "\u001b[0;31mType:\u001b[0m      function"
     ]
    }
   ],
   "source": [
    "si.generate_drifting_recording?"
   ]
  },
  {
   "cell_type": "code",
   "execution_count": 56,
   "metadata": {},
   "outputs": [],
   "source": [
    "recording, drifting_recording, gt_sorting = si.generate_drifting_recording(\n",
    "    num_units=5,\n",
    "    duration=300.,\n",
    "    generate_probe_kwargs=dict(\n",
    "        num_columns=2,\n",
    "        num_contact_per_column=[2, 2],\n",
    "        xpitch=20,\n",
    "        ypitch=20,\n",
    "        contact_shapes=\"square\",\n",
    "        contact_shape_params={\"width\": 12},\n",
    "    ),\n",
    "    generate_templates_kwargs=dict(\n",
    "        ms_before=1.5,\n",
    "        ms_after=3.0,\n",
    "        mode=\"ellipsoid\",\n",
    "        unit_params=dict(\n",
    "            alpha=(150.0, 500.0),\n",
    "            spatial_decay=(10, 40),\n",
    "        ),\n",
    "    ),\n",
    "    generate_unit_locations_kwargs=dict(\n",
    "        margin_um=10.0,\n",
    "        minimum_z=6.0,\n",
    "        maximum_z=25.0,\n",
    "        minimum_distance=18.0,\n",
    "        max_iteration=100,\n",
    "        distance_strict=False,\n",
    "    ),    \n",
    "    generate_sorting_kwargs=dict(firing_rates=(2.0, 5.0), refractory_period_ms=4.0),\n",
    "    generate_noise_kwargs=dict(noise_levels=(12.0, 15.0), spatial_decay=25.0),\n",
    "    seed=2205\n",
    ")"
   ]
  },
  {
   "cell_type": "code",
   "execution_count": 57,
   "metadata": {},
   "outputs": [
    {
     "data": {
      "text/plain": [
       "<spikeinterface.widgets.probe_map.ProbeMapWidget at 0x7f488aabee10>"
      ]
     },
     "execution_count": 57,
     "metadata": {},
     "output_type": "execute_result"
    },
    {
     "data": {
      "image/png": "[encoded data removed]",
      "text/plain": [
       "<Figure size 640x480 with 1 Axes>"
      ]
     },
     "metadata": {},
     "output_type": "display_data"
    }
   ],
   "source": [
    "si.plot_probe_map(recording)"
   ]
  },
  {
   "cell_type": "code",
   "execution_count": 58,
   "metadata": {},
   "outputs": [
    {
     "data": {
      "text/plain": [
       "<spikeinterface.widgets.traces.TracesWidget at 0x7f4885cfcc10>"
      ]
     },
     "execution_count": 58,
     "metadata": {},
     "output_type": "execute_result"
    }
   ],
   "source": [
    "si.plot_traces(recording, backend=\"ephyviewer\")"
   ]
  },
  {
   "cell_type": "markdown",
   "metadata": {},
   "source": [
    "### Run a sorter\n",
    "\n",
    "TODO schematics of this sorters"
   ]
  },
  {
   "cell_type": "code",
   "execution_count": 59,
   "metadata": {},
   "outputs": [
    {
     "name": "stdout",
     "output_type": "stream",
     "text": [
      "detect peaks using locally_exclusive with n_jobs = 4 and chunk_size = 30000\n"
     ]
    },
    {
     "data": {
      "application/vnd.jupyter.widget-view+json": {
       "model_id": "14b9d00dbeac4ab7bccf5e008ee5d3d9",
       "version_major": 2,
       "version_minor": 0
      },
      "text/plain": [
       "detect peaks using locally_exclusive:   0%|          | 0/300 [00:00<?, ?it/s]"
      ]
     },
     "metadata": {},
     "output_type": "display_data"
    },
    {
     "name": "stdout",
     "output_type": "stream",
     "text": [
      "We found 3690 peaks in total\n",
      "extract waveforms shared_memory mono buffer with n_jobs = 4 and chunk_size = 30000\n"
     ]
    },
    {
     "data": {
      "application/vnd.jupyter.widget-view+json": {
       "model_id": "2412bc7dcf8549c3ac4629c3a8bb9806",
       "version_major": 2,
       "version_minor": 0
      },
      "text/plain": [
       "extract waveforms shared_memory mono buffer:   0%|          | 0/300 [00:00<?, ?it/s]"
      ]
     },
     "metadata": {},
     "output_type": "display_data"
    },
    {
     "name": "stdout",
     "output_type": "stream",
     "text": [
      "extracting features with n_jobs = 4 and chunk_size = 30000\n"
     ]
    },
    {
     "data": {
      "application/vnd.jupyter.widget-view+json": {
       "model_id": "6fe9c50e65674abc8a472738305f821b",
       "version_major": 2,
       "version_minor": 0
      },
      "text/plain": [
       "extracting features:   0%|          | 0/300 [00:00<?, ?it/s]"
      ]
     },
     "metadata": {},
     "output_type": "display_data"
    },
    {
     "name": "stdout",
     "output_type": "stream",
     "text": [
      "simple run time 5.91s\n",
      "NumpyFolderSorting: 7 units - 1 segments - 30.0kHz\n"
     ]
    }
   ],
   "source": [
    "sorter_folder = base_folder / \"static_simple_sorter\"\n",
    "if sorter_folder.exists():\n",
    "    shutil.rmtree(sorter_folder)\n",
    "\n",
    "sorter_params = dict(\n",
    "    apply_preprocessing=True,\n",
    "    # apply_preprocessing=False,\n",
    "    waveforms=dict(ms_before=1.0, ms_after=1.8),\n",
    "    filtering=dict(freq_min=300, freq_max=8000.0),\n",
    "    detection=dict(peak_sign=\"neg\", detect_threshold=5., exclude_sweep_ms=0.4, radius_um=100),\n",
    "    features=dict(n_components=3),\n",
    "    clustering=dict(method=\"hdbscan\"),\n",
    "    # clustering=dict(method=\"kmeans\", n_clusters=3),\n",
    "    # clustering=dict(method=\"gaussian_mixture\", n_components=5),\n",
    "    # clustering=dict(method=\"mean_shift\", bin_seeding=True),\n",
    "    # clustering=dict(method=\"affinity_propagation\"),\n",
    "    job_kwargs=dict(n_jobs=-1),\n",
    ")\n",
    "sorting = si.run_sorter(\"simple\", recording, output_folder=sorter_folder, verbose=True, **sorter_params)\n",
    "print(sorting)"
   ]
  },
  {
   "cell_type": "markdown",
   "metadata": {},
   "source": [
    "### lets explore features\n",
    "\n",
    "Our \"simple_sorter\" leave some files we can explore after the `run_sorter(...)`\n",
    "\n",
    "\n",
    "The file `features_tsvd.npy` contains the features computed by our sorter.\n",
    "\n",
    "The file `peak_labels.npy` contains the labels set by our sorter.\n",
    "\n",
    "\n",
    "The shape is `(num_spikes, num_components, num_channels)`.\n",
    "\n",
    "This can be flatten and then analyzed with umap for a simple display.\n",
    "\n",
    "We can see that algoythm HDBSCAN we choose agree with UMAP dimension reduction."
   ]
  },
  {
   "cell_type": "code",
   "execution_count": 62,
   "metadata": {},
   "outputs": [
    {
     "name": "stdout",
     "output_type": "stream",
     "text": [
      "(3690, 3, 4) (3690, 12) (3690,) float32\n"
     ]
    }
   ],
   "source": [
    "features = np.load(sorter_folder / \"sorter_output/features/features_tsvd.npy\")\n",
    "\n",
    "features_flat = features.reshape(features.shape[0], -1)\n",
    "\n",
    "peak_labels = np.load(sorter_folder / \"sorter_output/features/peak_labels.npy\")\n",
    "\n",
    "print(features.shape, features_flat.shape,  peak_labels.shape,features.dtype)\n"
   ]
  },
  {
   "cell_type": "code",
   "execution_count": 63,
   "metadata": {},
   "outputs": [
    {
     "name": "stdout",
     "output_type": "stream",
     "text": [
      "UMAP(tqdm_kwds={'bar_format': '{desc}: {percentage:3.0f}%| {bar} {n_fmt}/{total_fmt} [{elapsed}]', 'desc': 'Epochs completed', 'disable': True})\n"
     ]
    },
    {
     "data": {
      "text/plain": [
       "<Axes: >"
      ]
     },
     "execution_count": 63,
     "metadata": {},
     "output_type": "execute_result"
    },
    {
     "data": {
      "image/png": "[encoded data removed]",
      "text/plain": [
       "<Figure size 800x800 with 1 Axes>"
      ]
     },
     "metadata": {},
     "output_type": "display_data"
    }
   ],
   "source": [
    "import umap\n",
    "import umap.plot\n",
    "\n",
    "mapper = umap.UMAP().fit(features_flat)\n",
    "print(mapper)\n",
    "umap.plot.points(mapper, labels=peak_labels)\n"
   ]
  },
  {
   "cell_type": "markdown",
   "metadata": {},
   "source": [
    "## SortingAnalyzer\n",
    "\n",
    "We run a SortingAnalyzer on this so we use the spikeinterface-gui to explore the result.\n",
    "\n",
    "We can observe that 2 units should be merged.\n"
   ]
  },
  {
   "cell_type": "code",
   "execution_count": 64,
   "metadata": {},
   "outputs": [
    {
     "data": {
      "application/vnd.jupyter.widget-view+json": {
       "model_id": "eca71c44fa944252b5e63f08f8053f32",
       "version_major": 2,
       "version_minor": 0
      },
      "text/plain": [
       "compute_waveforms:   0%|          | 0/300 [00:00<?, ?it/s]"
      ]
     },
     "metadata": {},
     "output_type": "display_data"
    },
    {
     "data": {
      "application/vnd.jupyter.widget-view+json": {
       "model_id": "75a7b6763480430f90262ea3f21e0ba6",
       "version_major": 2,
       "version_minor": 0
      },
      "text/plain": [
       "Fitting PCA:   0%|          | 0/7 [00:00<?, ?it/s]"
      ]
     },
     "metadata": {},
     "output_type": "display_data"
    },
    {
     "data": {
      "application/vnd.jupyter.widget-view+json": {
       "model_id": "8a6fc68126b44b659d473aaf8e94ffc5",
       "version_major": 2,
       "version_minor": 0
      },
      "text/plain": [
       "Projecting waveforms:   0%|          | 0/7 [00:00<?, ?it/s]"
      ]
     },
     "metadata": {},
     "output_type": "display_data"
    },
    {
     "data": {
      "application/vnd.jupyter.widget-view+json": {
       "model_id": "6e8162a3144e4e39aeaa2836f3e8aae8",
       "version_major": 2,
       "version_minor": 0
      },
      "text/plain": [
       "Compute : spike_amplitudes:   0%|          | 0/300 [00:00<?, ?it/s]"
      ]
     },
     "metadata": {},
     "output_type": "display_data"
    },
    {
     "name": "stderr",
     "output_type": "stream",
     "text": [
      "/home/samuel/Documents/SpikeInterface/spikeinterface/src/spikeinterface/qualitymetrics/misc_metrics.py:880: UserWarning: Some units have too few spikes : amplitude_cutoff is set to NaN\n",
      "  warnings.warn(f\"Some units have too few spikes : amplitude_cutoff is set to NaN\")\n"
     ]
    },
    {
     "data": {
      "text/plain": [
       "SortingAnalyzer: 4 channels - 7 units - 1 segments - memory - has recording\n",
       "Loaded 10 extensions: random_spikes, waveforms, templates, noise_levels, unit_locations, principal_components, correlograms, template_similarity, spike_amplitudes, quality_metrics"
      ]
     },
     "execution_count": 64,
     "metadata": {},
     "output_type": "execute_result"
    }
   ],
   "source": [
    "analyzer = si.create_sorting_analyzer(sorting, recording, sparse=False)\n",
    "analyzer.compute([\"random_spikes\", \"waveforms\", \"templates\", \"noise_levels\"])\n",
    "analyzer.compute([\"spike_amplitudes\", \"unit_locations\", \"principal_components\", \"correlograms\", \"template_similarity\"])\n",
    "analyzer.compute(\"quality_metrics\", metric_names=[\"snr\", \"amplitude_cutoff\", \"rp_violation\"])\n",
    "analyzer"
   ]
  },
  {
   "cell_type": "code",
   "execution_count": 65,
   "metadata": {},
   "outputs": [],
   "source": [
    "# si.plot_sorting_summary(analyzer, backend=\"sortingview\")"
   ]
  },
  {
   "cell_type": "code",
   "execution_count": 66,
   "metadata": {},
   "outputs": [
    {
     "data": {
      "text/plain": [
       "<spikeinterface.widgets.sorting_summary.SortingSummaryWidget at 0x7f4886d74b10>"
      ]
     },
     "execution_count": 66,
     "metadata": {},
     "output_type": "execute_result"
    }
   ],
   "source": [
    "%gui qt\n",
    "si.plot_sorting_summary(analyzer, backend=\"spikeinterface_gui\")\n"
   ]
  },
  {
   "cell_type": "markdown",
   "metadata": {},
   "source": [
    "## SortingAnalyzer on the groundtruth"
   ]
  },
  {
   "cell_type": "code",
   "execution_count": 67,
   "metadata": {},
   "outputs": [
    {
     "data": {
      "application/vnd.jupyter.widget-view+json": {
       "model_id": "03986bc206ea46bd95d8e4bcfe0d1b3c",
       "version_major": 2,
       "version_minor": 0
      },
      "text/plain": [
       "compute_waveforms:   0%|          | 0/300 [00:00<?, ?it/s]"
      ]
     },
     "metadata": {},
     "output_type": "display_data"
    },
    {
     "data": {
      "application/vnd.jupyter.widget-view+json": {
       "model_id": "71d1cc77c27d42e898b663e8547713f2",
       "version_major": 2,
       "version_minor": 0
      },
      "text/plain": [
       "Fitting PCA:   0%|          | 0/5 [00:00<?, ?it/s]"
      ]
     },
     "metadata": {},
     "output_type": "display_data"
    },
    {
     "data": {
      "application/vnd.jupyter.widget-view+json": {
       "model_id": "25dd88bee88d41f1ab167d58f2da607b",
       "version_major": 2,
       "version_minor": 0
      },
      "text/plain": [
       "Projecting waveforms:   0%|          | 0/5 [00:00<?, ?it/s]"
      ]
     },
     "metadata": {},
     "output_type": "display_data"
    },
    {
     "data": {
      "application/vnd.jupyter.widget-view+json": {
       "model_id": "45c6cce68d9845fab6c5f53fbf05892f",
       "version_major": 2,
       "version_minor": 0
      },
      "text/plain": [
       "Compute : spike_amplitudes:   0%|          | 0/300 [00:00<?, ?it/s]"
      ]
     },
     "metadata": {},
     "output_type": "display_data"
    },
    {
     "data": {
      "text/plain": [
       "SortingAnalyzer: 4 channels - 5 units - 1 segments - memory - has recording\n",
       "Loaded 10 extensions: random_spikes, waveforms, templates, noise_levels, unit_locations, principal_components, correlograms, template_similarity, spike_amplitudes, quality_metrics"
      ]
     },
     "execution_count": 67,
     "metadata": {},
     "output_type": "execute_result"
    }
   ],
   "source": [
    "gt_analyzer = si.create_sorting_analyzer(gt_sorting, recording, sparse=False)\n",
    "gt_analyzer.compute([\"random_spikes\", \"waveforms\", \"templates\", \"noise_levels\"])\n",
    "gt_analyzer.compute([\"spike_amplitudes\", \"unit_locations\", \"principal_components\", \"correlograms\", \"template_similarity\"])\n",
    "gt_analyzer.compute(\"quality_metrics\", metric_names=[\"snr\", \"amplitude_cutoff\", \"rp_violation\"])\n",
    "gt_analyzer"
   ]
  },
  {
   "cell_type": "code",
   "execution_count": 68,
   "metadata": {},
   "outputs": [
    {
     "data": {
      "text/plain": [
       "<spikeinterface.widgets.sorting_summary.SortingSummaryWidget at 0x7f488a423890>"
      ]
     },
     "execution_count": 68,
     "metadata": {},
     "output_type": "execute_result"
    }
   ],
   "source": [
    "si.plot_sorting_summary(gt_analyzer, backend=\"spikeinterface_gui\")"
   ]
  },
  {
   "cell_type": "markdown",
   "metadata": {},
   "source": [
    "## Compare result to groundtruth\n",
    "\n",
    "spikeinterface have a simple way check the result of a sorter and benchmark it to groundtruth sorting."
   ]
  },
  {
   "cell_type": "code",
   "execution_count": 69,
   "metadata": {},
   "outputs": [
    {
     "data": {
      "text/plain": [
       "<spikeinterface.widgets.comparison.AgreementMatrixWidget at 0x7f4888a968d0>"
      ]
     },
     "execution_count": 69,
     "metadata": {},
     "output_type": "execute_result"
    },
    {
     "data": {
      "image/png": "[encoded data removed]",
      "text/plain": [
       "<Figure size 640x480 with 1 Axes>"
      ]
     },
     "metadata": {},
     "output_type": "display_data"
    }
   ],
   "source": [
    "comp = si.compare_sorter_to_ground_truth(gt_sorting, sorting)\n",
    "si.plot_agreement_matrix(comp)"
   ]
  },
  {
   "cell_type": "markdown",
   "metadata": {},
   "source": [
    "## curation with quality metrics"
   ]
  },
  {
   "cell_type": "code",
   "execution_count": 70,
   "metadata": {},
   "outputs": [
    {
     "data": {
      "text/html": [
       "<div>\n",
       "<style scoped>\n",
       "    .dataframe tbody tr th:only-of-type {\n",
       "        vertical-align: middle;\n",
       "    }\n",
       "\n",
       "    .dataframe tbody tr th {\n",
       "        vertical-align: top;\n",
       "    }\n",
       "\n",
       "    .dataframe thead th {\n",
       "        text-align: right;\n",
       "    }\n",
       "</style>\n",
       "<table border=\"1\" class=\"dataframe\">\n",
       "  <thead>\n",
       "    <tr style=\"text-align: right;\">\n",
       "      <th></th>\n",
       "      <th>amplitude_cutoff</th>\n",
       "      <th>rp_contamination</th>\n",
       "      <th>rp_violations</th>\n",
       "      <th>snr</th>\n",
       "    </tr>\n",
       "  </thead>\n",
       "  <tbody>\n",
       "    <tr>\n",
       "      <th>0</th>\n",
       "      <td>0.013472</td>\n",
       "      <td>0.0</td>\n",
       "      <td>0.0</td>\n",
       "      <td>4.343815</td>\n",
       "    </tr>\n",
       "    <tr>\n",
       "      <th>1</th>\n",
       "      <td>0.003071</td>\n",
       "      <td>0.0</td>\n",
       "      <td>0.0</td>\n",
       "      <td>7.858329</td>\n",
       "    </tr>\n",
       "    <tr>\n",
       "      <th>2</th>\n",
       "      <td>NaN</td>\n",
       "      <td>0.0</td>\n",
       "      <td>0.0</td>\n",
       "      <td>16.708943</td>\n",
       "    </tr>\n",
       "    <tr>\n",
       "      <th>3</th>\n",
       "      <td>0.003488</td>\n",
       "      <td>0.0</td>\n",
       "      <td>0.0</td>\n",
       "      <td>17.293712</td>\n",
       "    </tr>\n",
       "    <tr>\n",
       "      <th>4</th>\n",
       "      <td>NaN</td>\n",
       "      <td>0.0</td>\n",
       "      <td>0.0</td>\n",
       "      <td>15.586703</td>\n",
       "    </tr>\n",
       "    <tr>\n",
       "      <th>5</th>\n",
       "      <td>0.007807</td>\n",
       "      <td>0.0</td>\n",
       "      <td>0.0</td>\n",
       "      <td>16.280061</td>\n",
       "    </tr>\n",
       "    <tr>\n",
       "      <th>6</th>\n",
       "      <td>NaN</td>\n",
       "      <td>0.0</td>\n",
       "      <td>0.0</td>\n",
       "      <td>16.248887</td>\n",
       "    </tr>\n",
       "  </tbody>\n",
       "</table>\n",
       "</div>"
      ],
      "text/plain": [
       "   amplitude_cutoff  rp_contamination  rp_violations        snr\n",
       "0          0.013472               0.0            0.0   4.343815\n",
       "1          0.003071               0.0            0.0   7.858329\n",
       "2               NaN               0.0            0.0  16.708943\n",
       "3          0.003488               0.0            0.0  17.293712\n",
       "4               NaN               0.0            0.0  15.586703\n",
       "5          0.007807               0.0            0.0  16.280061\n",
       "6               NaN               0.0            0.0  16.248887"
      ]
     },
     "execution_count": 70,
     "metadata": {},
     "output_type": "execute_result"
    }
   ],
   "source": [
    "metrics = analyzer.get_extension(\"quality_metrics\").get_data()\n",
    "metrics"
   ]
  },
  {
   "cell_type": "code",
   "execution_count": 71,
   "metadata": {},
   "outputs": [
    {
     "data": {
      "text/html": [
       "<div>\n",
       "<style scoped>\n",
       "    .dataframe tbody tr th:only-of-type {\n",
       "        vertical-align: middle;\n",
       "    }\n",
       "\n",
       "    .dataframe tbody tr th {\n",
       "        vertical-align: top;\n",
       "    }\n",
       "\n",
       "    .dataframe thead th {\n",
       "        text-align: right;\n",
       "    }\n",
       "</style>\n",
       "<table border=\"1\" class=\"dataframe\">\n",
       "  <thead>\n",
       "    <tr style=\"text-align: right;\">\n",
       "      <th></th>\n",
       "      <th>amplitude_cutoff</th>\n",
       "      <th>rp_contamination</th>\n",
       "      <th>rp_violations</th>\n",
       "      <th>snr</th>\n",
       "    </tr>\n",
       "  </thead>\n",
       "  <tbody>\n",
       "    <tr>\n",
       "      <th>1</th>\n",
       "      <td>0.003071</td>\n",
       "      <td>0.0</td>\n",
       "      <td>0.0</td>\n",
       "      <td>7.858329</td>\n",
       "    </tr>\n",
       "    <tr>\n",
       "      <th>2</th>\n",
       "      <td>NaN</td>\n",
       "      <td>0.0</td>\n",
       "      <td>0.0</td>\n",
       "      <td>16.708943</td>\n",
       "    </tr>\n",
       "    <tr>\n",
       "      <th>3</th>\n",
       "      <td>0.003488</td>\n",
       "      <td>0.0</td>\n",
       "      <td>0.0</td>\n",
       "      <td>17.293712</td>\n",
       "    </tr>\n",
       "    <tr>\n",
       "      <th>4</th>\n",
       "      <td>NaN</td>\n",
       "      <td>0.0</td>\n",
       "      <td>0.0</td>\n",
       "      <td>15.586703</td>\n",
       "    </tr>\n",
       "    <tr>\n",
       "      <th>5</th>\n",
       "      <td>0.007807</td>\n",
       "      <td>0.0</td>\n",
       "      <td>0.0</td>\n",
       "      <td>16.280061</td>\n",
       "    </tr>\n",
       "    <tr>\n",
       "      <th>6</th>\n",
       "      <td>NaN</td>\n",
       "      <td>0.0</td>\n",
       "      <td>0.0</td>\n",
       "      <td>16.248887</td>\n",
       "    </tr>\n",
       "  </tbody>\n",
       "</table>\n",
       "</div>"
      ],
      "text/plain": [
       "   amplitude_cutoff  rp_contamination  rp_violations        snr\n",
       "1          0.003071               0.0            0.0   7.858329\n",
       "2               NaN               0.0            0.0  16.708943\n",
       "3          0.003488               0.0            0.0  17.293712\n",
       "4               NaN               0.0            0.0  15.586703\n",
       "5          0.007807               0.0            0.0  16.280061\n",
       "6               NaN               0.0            0.0  16.248887"
      ]
     },
     "metadata": {},
     "output_type": "display_data"
    },
    {
     "name": "stdout",
     "output_type": "stream",
     "text": [
      "[1 2 3 4 5 6]\n"
     ]
    }
   ],
   "source": [
    "keep = metrics.query(\"rp_contamination < 0.25 & snr > 7\")\n",
    "display(keep)\n",
    "\n",
    "keep_unit_ids = keep.index.values\n",
    "print(keep_unit_ids)\n"
   ]
  },
  {
   "cell_type": "code",
   "execution_count": 72,
   "metadata": {},
   "outputs": [
    {
     "data": {
      "text/plain": [
       "SortingAnalyzer: 4 channels - 6 units - 1 segments - memory - has recording\n",
       "Loaded 10 extensions: random_spikes, waveforms, templates, noise_levels, unit_locations, principal_components, correlograms, template_similarity, spike_amplitudes, quality_metrics"
      ]
     },
     "execution_count": 72,
     "metadata": {},
     "output_type": "execute_result"
    }
   ],
   "source": [
    "analyzer_clean = analyzer.select_units(unit_ids=keep_unit_ids)\n",
    "analyzer_clean"
   ]
  },
  {
   "cell_type": "code",
   "execution_count": 73,
   "metadata": {},
   "outputs": [
    {
     "data": {
      "text/plain": [
       "<spikeinterface.widgets.sorting_summary.SortingSummaryWidget at 0x7f48859238d0>"
      ]
     },
     "execution_count": 73,
     "metadata": {},
     "output_type": "execute_result"
    }
   ],
   "source": [
    "%gui qt\n",
    "si.plot_sorting_summary(analyzer_clean, backend=\"spikeinterface_gui\")"
   ]
  },
  {
   "cell_type": "markdown",
   "metadata": {},
   "source": [
    "## check with the ground truth\n",
    "\n",
    "Here we compare the cleaned unit list from tridesclous2"
   ]
  },
  {
   "cell_type": "code",
   "execution_count": 74,
   "metadata": {},
   "outputs": [
    {
     "data": {
      "text/plain": [
       "<spikeinterface.widgets.comparison.AgreementMatrixWidget at 0x7f4886c2ec10>"
      ]
     },
     "execution_count": 74,
     "metadata": {},
     "output_type": "execute_result"
    },
    {
     "data": {
      "image/png": "[encoded data removed]",
      "text/plain": [
       "<Figure size 640x480 with 1 Axes>"
      ]
     },
     "metadata": {},
     "output_type": "display_data"
    }
   ],
   "source": [
    "comp_clean = si.compare_sorter_to_ground_truth(gt_sorting, analyzer_clean.sorting)\n",
    "si.plot_agreement_matrix(comp_clean)"
   ]
  },
  {
   "cell_type": "markdown",
   "metadata": {},
   "source": [
    "## More dificult : the drift!!"
   ]
  },
  {
   "cell_type": "code",
   "execution_count": 75,
   "metadata": {},
   "outputs": [
    {
     "data": {
      "application/vnd.jupyter.widget-view+json": {
       "model_id": "52b3d5b51347417790f9d53212684902",
       "version_major": 2,
       "version_minor": 0
      },
      "text/plain": [
       "compute_waveforms:   0%|          | 0/300 [00:00<?, ?it/s]"
      ]
     },
     "metadata": {},
     "output_type": "display_data"
    },
    {
     "data": {
      "application/vnd.jupyter.widget-view+json": {
       "model_id": "286504ddd05a47ce800528feff3a3543",
       "version_major": 2,
       "version_minor": 0
      },
      "text/plain": [
       "Fitting PCA:   0%|          | 0/5 [00:00<?, ?it/s]"
      ]
     },
     "metadata": {},
     "output_type": "display_data"
    },
    {
     "data": {
      "application/vnd.jupyter.widget-view+json": {
       "model_id": "47291ea5a2a041ee87822729e4e1a490",
       "version_major": 2,
       "version_minor": 0
      },
      "text/plain": [
       "Projecting waveforms:   0%|          | 0/5 [00:00<?, ?it/s]"
      ]
     },
     "metadata": {},
     "output_type": "display_data"
    },
    {
     "data": {
      "application/vnd.jupyter.widget-view+json": {
       "model_id": "9358abb152fd47aea40a57e88a181f21",
       "version_major": 2,
       "version_minor": 0
      },
      "text/plain": [
       "Compute : spike_amplitudes:   0%|          | 0/300 [00:00<?, ?it/s]"
      ]
     },
     "metadata": {},
     "output_type": "display_data"
    },
    {
     "data": {
      "text/plain": [
       "SortingAnalyzer: 4 channels - 5 units - 1 segments - memory - has recording\n",
       "Loaded 10 extensions: random_spikes, waveforms, templates, noise_levels, unit_locations, principal_components, correlograms, template_similarity, spike_amplitudes, quality_metrics"
      ]
     },
     "execution_count": 75,
     "metadata": {},
     "output_type": "execute_result"
    }
   ],
   "source": [
    "gt_drift_analyzer = si.create_sorting_analyzer(gt_sorting, drifting_recording, sparse=False)\n",
    "gt_drift_analyzer.compute([\"random_spikes\", \"waveforms\", \"templates\", \"noise_levels\"])\n",
    "gt_drift_analyzer.compute([\"spike_amplitudes\", \"unit_locations\", \"principal_components\", \"correlograms\", \"template_similarity\"])\n",
    "gt_drift_analyzer.compute(\"quality_metrics\", metric_names=[\"snr\", \"amplitude_cutoff\", \"rp_violation\"])\n",
    "gt_drift_analyzer"
   ]
  },
  {
   "cell_type": "code",
   "execution_count": 76,
   "metadata": {},
   "outputs": [
    {
     "data": {
      "text/plain": [
       "<spikeinterface.widgets.sorting_summary.SortingSummaryWidget at 0x7f4886c80d50>"
      ]
     },
     "execution_count": 76,
     "metadata": {},
     "output_type": "execute_result"
    }
   ],
   "source": [
    "%gui qt\n",
    "si.plot_sorting_summary(gt_drift_analyzer, backend=\"spikeinterface_gui\")"
   ]
  },
  {
   "cell_type": "code",
   "execution_count": 78,
   "metadata": {},
   "outputs": [
    {
     "name": "stdout",
     "output_type": "stream",
     "text": [
      "detect peaks using locally_exclusive with n_jobs = 4 and chunk_size = 30000\n"
     ]
    },
    {
     "data": {
      "application/vnd.jupyter.widget-view+json": {
       "model_id": "42be4cb3eefc461a91a64d1d6f4bdcda",
       "version_major": 2,
       "version_minor": 0
      },
      "text/plain": [
       "detect peaks using locally_exclusive:   0%|          | 0/300 [00:00<?, ?it/s]"
      ]
     },
     "metadata": {},
     "output_type": "display_data"
    },
    {
     "name": "stdout",
     "output_type": "stream",
     "text": [
      "We found 2947 peaks in total\n",
      "extract waveforms shared_memory mono buffer with n_jobs = 4 and chunk_size = 30000\n"
     ]
    },
    {
     "data": {
      "application/vnd.jupyter.widget-view+json": {
       "model_id": "85f3a130075449549b5dd9e3bc9f2602",
       "version_major": 2,
       "version_minor": 0
      },
      "text/plain": [
       "extract waveforms shared_memory mono buffer:   0%|          | 0/300 [00:00<?, ?it/s]"
      ]
     },
     "metadata": {},
     "output_type": "display_data"
    },
    {
     "name": "stdout",
     "output_type": "stream",
     "text": [
      "extracting features with n_jobs = 4 and chunk_size = 30000\n"
     ]
    },
    {
     "data": {
      "application/vnd.jupyter.widget-view+json": {
       "model_id": "eea17ba0fd1a4e7bb349ee1384bf25f2",
       "version_major": 2,
       "version_minor": 0
      },
      "text/plain": [
       "extracting features:   0%|          | 0/300 [00:00<?, ?it/s]"
      ]
     },
     "metadata": {},
     "output_type": "display_data"
    },
    {
     "name": "stdout",
     "output_type": "stream",
     "text": [
      "simple run time 6.83s\n",
      "NumpyFolderSorting: 2 units - 1 segments - 30.0kHz\n"
     ]
    }
   ],
   "source": [
    "sorter_folder = base_folder / \"drifting_simple_sorter\"\n",
    "if sorter_folder.exists():\n",
    "    shutil.rmtree(sorter_folder)\n",
    "\n",
    "sorter_params = dict(\n",
    "    apply_preprocessing=True,\n",
    "    # apply_preprocessing=False,\n",
    "    waveforms=dict(ms_before=1.0, ms_after=1.8),\n",
    "    filtering=dict(freq_min=300, freq_max=8000.0),\n",
    "    detection=dict(peak_sign=\"neg\", detect_threshold=5., exclude_sweep_ms=0.4, radius_um=100),\n",
    "    features=dict(n_components=3),\n",
    "    clustering=dict(method=\"hdbscan\"),\n",
    "    # clustering=dict(method=\"kmeans\", n_clusters=3),\n",
    "    # clustering=dict(method=\"gaussian_mixture\", n_components=5),\n",
    "    # clustering=dict(method=\"mean_shift\", bin_seeding=True),\n",
    "    # clustering=dict(method=\"affinity_propagation\"),\n",
    "    job_kwargs=dict(n_jobs=-1),\n",
    ")\n",
    "sorting_drift = si.run_sorter(\"simple\", drifting_recording, output_folder=sorter_folder, verbose=True, **sorter_params)\n",
    "print(sorting_drift)"
   ]
  },
  {
   "cell_type": "code",
   "execution_count": 80,
   "metadata": {},
   "outputs": [
    {
     "data": {
      "application/vnd.jupyter.widget-view+json": {
       "model_id": "ff016194c9ec4f60b592fba83e88d419",
       "version_major": 2,
       "version_minor": 0
      },
      "text/plain": [
       "compute_waveforms:   0%|          | 0/300 [00:00<?, ?it/s]"
      ]
     },
     "metadata": {},
     "output_type": "display_data"
    },
    {
     "data": {
      "application/vnd.jupyter.widget-view+json": {
       "model_id": "b08b5e2dfe1b43a5aa446b9b0f905a57",
       "version_major": 2,
       "version_minor": 0
      },
      "text/plain": [
       "Fitting PCA:   0%|          | 0/2 [00:00<?, ?it/s]"
      ]
     },
     "metadata": {},
     "output_type": "display_data"
    },
    {
     "data": {
      "application/vnd.jupyter.widget-view+json": {
       "model_id": "9e408156d0c94e2fb6069303a933afd9",
       "version_major": 2,
       "version_minor": 0
      },
      "text/plain": [
       "Projecting waveforms:   0%|          | 0/2 [00:00<?, ?it/s]"
      ]
     },
     "metadata": {},
     "output_type": "display_data"
    },
    {
     "data": {
      "application/vnd.jupyter.widget-view+json": {
       "model_id": "f60c1e4aff454ec995d2906ad13c74c1",
       "version_major": 2,
       "version_minor": 0
      },
      "text/plain": [
       "Compute : spike_amplitudes:   0%|          | 0/300 [00:00<?, ?it/s]"
      ]
     },
     "metadata": {},
     "output_type": "display_data"
    },
    {
     "data": {
      "text/plain": [
       "SortingAnalyzer: 4 channels - 2 units - 1 segments - memory - has recording\n",
       "Loaded 10 extensions: random_spikes, waveforms, templates, noise_levels, unit_locations, principal_components, correlograms, template_similarity, spike_amplitudes, quality_metrics"
      ]
     },
     "execution_count": 80,
     "metadata": {},
     "output_type": "execute_result"
    }
   ],
   "source": [
    "drift_analyzer = si.create_sorting_analyzer(sorting_drift, drifting_recording, sparse=False)\n",
    "drift_analyzer.compute([\"random_spikes\", \"waveforms\", \"templates\", \"noise_levels\"])\n",
    "drift_analyzer.compute([\"spike_amplitudes\", \"unit_locations\", \"principal_components\", \"correlograms\", \"template_similarity\"])\n",
    "drift_analyzer.compute(\"quality_metrics\", metric_names=[\"snr\", \"amplitude_cutoff\", \"rp_violation\"])\n",
    "drift_analyzer"
   ]
  },
  {
   "cell_type": "code",
   "execution_count": 81,
   "metadata": {},
   "outputs": [
    {
     "data": {
      "text/plain": [
       "<spikeinterface.widgets.sorting_summary.SortingSummaryWidget at 0x7f488932df90>"
      ]
     },
     "execution_count": 81,
     "metadata": {},
     "output_type": "execute_result"
    }
   ],
   "source": [
    "%gui qt\n",
    "si.plot_sorting_summary(drift_analyzer, backend=\"spikeinterface_gui\")"
   ]
  },
  {
   "cell_type": "code",
   "execution_count": 82,
   "metadata": {},
   "outputs": [
    {
     "data": {
      "text/plain": [
       "<spikeinterface.widgets.comparison.AgreementMatrixWidget at 0x7f48896e02d0>"
      ]
     },
     "execution_count": 82,
     "metadata": {},
     "output_type": "execute_result"
    },
    {
     "data": {
      "image/png": "[encoded data removed]",
      "text/plain": [
       "<Figure size 640x480 with 1 Axes>"
      ]
     },
     "metadata": {},
     "output_type": "display_data"
    }
   ],
   "source": [
    "comp_drift = si.compare_sorter_to_ground_truth(gt_sorting, sorting_drift)\n",
    "si.plot_agreement_matrix(comp_drift)"
   ]
  },
  {
   "cell_type": "code",
   "execution_count": null,
   "metadata": {},
   "outputs": [],
   "source": []
  }
 ],
 "metadata": {
  "kernelspec": {
   "display_name": "Python 3",
   "language": "python",
   "name": "python3"
  },
  "language_info": {
   "codemirror_mode": {
    "name": "ipython",
    "version": 3
   },
   "file_extension": ".py",
   "mimetype": "text/x-python",
   "name": "python",
   "nbconvert_exporter": "python",
   "pygments_lexer": "ipython3",
   "version": "3.11.0rc1"
  }
 },
 "nbformat": 4,
 "nbformat_minor": 2
}
