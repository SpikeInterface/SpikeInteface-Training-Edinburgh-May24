{
 "cells": [
  {
   "cell_type": "markdown",
   "id": "fde76207-cf5e-49cf-89f4-f4f00b1b6bcc",
   "metadata": {},
   "source": [
    "### Test that you're ready for Tuesday's workshop!\n",
    "\n",
    "If you can run every cell in this notebook without error, you are ready for _all_ of Tuesday's sessions. Find installion instructions on the github page for this event: https://github.com/SpikeInterface/SpikeInteface-Training-Edinburgh-May24\n",
    "\n",
    "Please download the datasets we'll use for the tutorials, which are also listed on the page above.\n",
    "\n",
    "If you have any problems, try and find a spikeinterface expert on Monday.\n",
    "\n",
    "Now, on with the checks..."
   ]
  },
  {
   "cell_type": "code",
   "execution_count": null,
   "id": "6fed967f-d45c-40c5-8ff2-a4e2cd0be38d",
   "metadata": {},
   "outputs": [],
   "source": [
    "# Check that some \"basic\" packages are installed\n",
    "import numpy as np\n",
    "import pandas\n",
    "from pathlib import Path"
   ]
  },
  {
   "cell_type": "code",
   "execution_count": null,
   "id": "c7e5b691-2914-4acd-9647-b943cb08f475",
   "metadata": {},
   "outputs": [],
   "source": [
    "# Check that spikeinterface is installed\n",
    "# If it's not, help: https://github.com/SpikeInterface/SpikeInteface-Training-Edinburgh-May24\n",
    "import spikeinterface.full as si"
   ]
  },
  {
   "cell_type": "code",
   "execution_count": null,
   "id": "616fb239-27be-40fb-9c64-4d8e95d9e442",
   "metadata": {},
   "outputs": [],
   "source": [
    "# Check that you've installed the latest version of spikeinterface\n",
    "version = int(si.__version__.split(\".\")[1])\n",
    "if version == 101:\n",
    "    print(\"Excellent. Keep going\")\n",
    "else:\n",
    "    prnt(f\"STOP! You've got spikeinterface version {version} installed. Please update\")"
   ]
  },
  {
   "cell_type": "code",
   "execution_count": null,
   "id": "a682f9e4-0eba-4b76-81fd-8b423b011752",
   "metadata": {},
   "outputs": [],
   "source": [
    "# Check that probeinterface is installed\n",
    "import probeinterface as pi"
   ]
  },
  {
   "cell_type": "code",
   "execution_count": null,
   "id": "764310a3-f516-4304-924b-43b2a38ca9b8",
   "metadata": {},
   "outputs": [],
   "source": [
    "# For many of the tutorials, we'll use data from this Google Drive:\n",
    "# https://drive.google.com/drive/folders/17RlgsMLheW82IMLMgmTFifVACebDZ8X5?usp=sharing\n",
    "# Please download it and put it somewhere. Now put the \n",
    "\n",
    "# Put the path to the file here. Here an example from a Mac user\n",
    "path_to_dataset = Path('/Users/Chris/Work/Edinburgh/Spike/data/SpikeInterface Dataset Tutorial/')\n",
    "\n",
    "# Tools from \"os\" are useful for debugging. This one checks if path_to_dataset\n",
    "# points to a directory. It should return `True`\n",
    "import os\n",
    "os.path.isdir(path_to_dataset)"
   ]
  },
  {
   "cell_type": "code",
   "execution_count": null,
   "id": "c66363e6-091a-43d2-97f6-65e728f2f21d",
   "metadata": {},
   "outputs": [],
   "source": [
    "# We'll now try to read one of the files \n",
    "\n",
    "si.load_extractor(path_to_dataset + 'dataset_postprocessing/sorting_mysterious')"
   ]
  },
  {
   "cell_type": "code",
   "execution_count": null,
   "id": "aee30292-46dc-4064-9fac-67cde8e96909",
   "metadata": {},
   "outputs": [],
   "source": [
    "# Check that the matplotlib widget works\n",
    "# A slightly interactive figure should appear,\n",
    "# like this one: https://matplotlib.org/ipympl/\n",
    "# If it doesn't, read that website.\n",
    "import matplotlib.pyplot as plt\n",
    "%matplotlib widget\n",
    "\n",
    "fig, ax = plt.subplots()\n",
    "\n",
    "x = np.linspace(0, 2*np.pi, 100)\n",
    "y = np.sin(3*x)\n",
    "ax.plot(x, y)"
   ]
  },
  {
   "cell_type": "code",
   "execution_count": null,
   "id": "eee8fd76",
   "metadata": {},
   "outputs": [],
   "source": [
    "# Check that ipywidgets works. This code makes a slider\n",
    "# that you can interact with.\n",
    "\n",
    "import ipywidgets as widgets\n",
    "widgets.IntSlider()"
   ]
  },
  {
   "cell_type": "markdown",
   "id": "111abff4-eb7a-4f3f-8773-36e1dcfb3f98",
   "metadata": {},
   "source": [
    "## END\n",
    "\n",
    "Excellent. You're ready for Tuesday!"
   ]
  }
 ],
 "metadata": {
  "kernelspec": {
   "display_name": "SpikeDev",
   "language": "python",
   "name": "spikedev"
  },
  "language_info": {
   "codemirror_mode": {
    "name": "ipython",
    "version": 3
   },
   "file_extension": ".py",
   "mimetype": "text/x-python",
   "name": "python",
   "nbconvert_exporter": "python",
   "pygments_lexer": "ipython3",
   "version": "3.11.5"
  }
 },
 "nbformat": 4,
 "nbformat_minor": 5
}
